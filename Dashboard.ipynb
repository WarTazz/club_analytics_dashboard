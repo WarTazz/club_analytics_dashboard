{
 "cells": [
  {
   "cell_type": "code",
   "execution_count": 1,
   "id": "6b9041f0-e72c-4db4-a371-4423dad677e7",
   "metadata": {
    "tags": []
   },
   "outputs": [],
   "source": [
    "import matplotlib.pyplot as plt\n",
    "import seaborn as sns\n",
    "import pandas as pd\n",
    "import numpy as np\n",
    "import ipywidgets as widgets\n",
    "from IPython.display import display"
   ]
  },
  {
   "cell_type": "code",
   "execution_count": 36,
   "id": "d4a1e479-5965-4744-9d9b-65c9ed3367f7",
   "metadata": {},
   "outputs": [
    {
     "ename": "ValueError",
     "evalue": "Excel file format cannot be determined, you must specify an engine manually.",
     "output_type": "error",
     "traceback": [
      "\u001b[0;31m---------------------------------------------------------------------------\u001b[0m",
      "\u001b[0;31mValueError\u001b[0m                                Traceback (most recent call last)",
      "Cell \u001b[0;32mIn[36], line 12\u001b[0m\n\u001b[1;32m      9\u001b[0m     f\u001b[38;5;241m.\u001b[39mwrite(response\u001b[38;5;241m.\u001b[39mcontent)\n\u001b[1;32m     11\u001b[0m \u001b[38;5;66;03m# Charger le fichier Excel à partir du chemin local\u001b[39;00m\n\u001b[0;32m---> 12\u001b[0m df \u001b[38;5;241m=\u001b[39m pd\u001b[38;5;241m.\u001b[39mread_excel(\u001b[38;5;124m'\u001b[39m\u001b[38;5;124mV4_mars_2024.xlsx\u001b[39m\u001b[38;5;124m'\u001b[39m, sheet_name\u001b[38;5;241m=\u001b[39m\u001b[38;5;124m'\u001b[39m\u001b[38;5;124mBD EDF\u001b[39m\u001b[38;5;124m'\u001b[39m)\n\u001b[1;32m     13\u001b[0m df\u001b[38;5;241m.\u001b[39mhead()\n",
      "File \u001b[0;32m~/anaconda3/lib/python3.11/site-packages/pandas/io/excel/_base.py:478\u001b[0m, in \u001b[0;36mread_excel\u001b[0;34m(io, sheet_name, header, names, index_col, usecols, dtype, engine, converters, true_values, false_values, skiprows, nrows, na_values, keep_default_na, na_filter, verbose, parse_dates, date_parser, date_format, thousands, decimal, comment, skipfooter, storage_options, dtype_backend)\u001b[0m\n\u001b[1;32m    476\u001b[0m \u001b[38;5;28;01mif\u001b[39;00m \u001b[38;5;129;01mnot\u001b[39;00m \u001b[38;5;28misinstance\u001b[39m(io, ExcelFile):\n\u001b[1;32m    477\u001b[0m     should_close \u001b[38;5;241m=\u001b[39m \u001b[38;5;28;01mTrue\u001b[39;00m\n\u001b[0;32m--> 478\u001b[0m     io \u001b[38;5;241m=\u001b[39m ExcelFile(io, storage_options\u001b[38;5;241m=\u001b[39mstorage_options, engine\u001b[38;5;241m=\u001b[39mengine)\n\u001b[1;32m    479\u001b[0m \u001b[38;5;28;01melif\u001b[39;00m engine \u001b[38;5;129;01mand\u001b[39;00m engine \u001b[38;5;241m!=\u001b[39m io\u001b[38;5;241m.\u001b[39mengine:\n\u001b[1;32m    480\u001b[0m     \u001b[38;5;28;01mraise\u001b[39;00m \u001b[38;5;167;01mValueError\u001b[39;00m(\n\u001b[1;32m    481\u001b[0m         \u001b[38;5;124m\"\u001b[39m\u001b[38;5;124mEngine should not be specified when passing \u001b[39m\u001b[38;5;124m\"\u001b[39m\n\u001b[1;32m    482\u001b[0m         \u001b[38;5;124m\"\u001b[39m\u001b[38;5;124man ExcelFile - ExcelFile already has the engine set\u001b[39m\u001b[38;5;124m\"\u001b[39m\n\u001b[1;32m    483\u001b[0m     )\n",
      "File \u001b[0;32m~/anaconda3/lib/python3.11/site-packages/pandas/io/excel/_base.py:1500\u001b[0m, in \u001b[0;36mExcelFile.__init__\u001b[0;34m(self, path_or_buffer, engine, storage_options)\u001b[0m\n\u001b[1;32m   1496\u001b[0m     ext \u001b[38;5;241m=\u001b[39m inspect_excel_format(\n\u001b[1;32m   1497\u001b[0m         content_or_path\u001b[38;5;241m=\u001b[39mpath_or_buffer, storage_options\u001b[38;5;241m=\u001b[39mstorage_options\n\u001b[1;32m   1498\u001b[0m     )\n\u001b[1;32m   1499\u001b[0m     \u001b[38;5;28;01mif\u001b[39;00m ext \u001b[38;5;129;01mis\u001b[39;00m \u001b[38;5;28;01mNone\u001b[39;00m:\n\u001b[0;32m-> 1500\u001b[0m         \u001b[38;5;28;01mraise\u001b[39;00m \u001b[38;5;167;01mValueError\u001b[39;00m(\n\u001b[1;32m   1501\u001b[0m             \u001b[38;5;124m\"\u001b[39m\u001b[38;5;124mExcel file format cannot be determined, you must specify \u001b[39m\u001b[38;5;124m\"\u001b[39m\n\u001b[1;32m   1502\u001b[0m             \u001b[38;5;124m\"\u001b[39m\u001b[38;5;124man engine manually.\u001b[39m\u001b[38;5;124m\"\u001b[39m\n\u001b[1;32m   1503\u001b[0m         )\n\u001b[1;32m   1505\u001b[0m engine \u001b[38;5;241m=\u001b[39m config\u001b[38;5;241m.\u001b[39mget_option(\u001b[38;5;124mf\u001b[39m\u001b[38;5;124m\"\u001b[39m\u001b[38;5;124mio.excel.\u001b[39m\u001b[38;5;132;01m{\u001b[39;00mext\u001b[38;5;132;01m}\u001b[39;00m\u001b[38;5;124m.reader\u001b[39m\u001b[38;5;124m\"\u001b[39m, silent\u001b[38;5;241m=\u001b[39m\u001b[38;5;28;01mTrue\u001b[39;00m)\n\u001b[1;32m   1506\u001b[0m \u001b[38;5;28;01mif\u001b[39;00m engine \u001b[38;5;241m==\u001b[39m \u001b[38;5;124m\"\u001b[39m\u001b[38;5;124mauto\u001b[39m\u001b[38;5;124m\"\u001b[39m:\n",
      "\u001b[0;31mValueError\u001b[0m: Excel file format cannot be determined, you must specify an engine manually."
     ]
    }
   ],
   "source": [
    "import requests\n",
    "\n",
    "# URL du fichier Excel sur GitHub (ou autre emplacement en ligne)\n",
    "url = 'https://raw.githubusercontent.com/WarTazz/club_analytics_dashboard/main/V4_mars_2024.xlsx'\n",
    "\n",
    "# Télécharger le fichier Excel localement\n",
    "response = requests.get(url)\n",
    "with open('V4_mars_2024.xlsx', 'wb') as f:\n",
    "    f.write(response.content)\n",
    "\n",
    "# Charger le fichier Excel à partir du chemin local\n",
    "df = pd.read_excel('V4_mars_2024.xlsx', sheet_name='BD EDF')\n",
    "df.head()"
   ]
  },
  {
   "cell_type": "code",
   "execution_count": 34,
   "id": "b16bd532-1d82-4f1e-9511-eb4b4266825b",
   "metadata": {
    "tags": []
   },
   "outputs": [],
   "source": [
    "import locale\n",
    "\n",
    "# Définir la locale française pour les dates\n",
    "locale.setlocale(locale.LC_TIME, 'fr_FR.UTF-8')\n",
    "\n",
    "# Convertir la colonne de dates en datetime si nécessaire\n",
    "df['Date'] = pd.to_datetime(df['Date'])\n",
    "\n",
    "# Supprimer la colonne Horodateur\n",
    "# df.drop(\"Horodateur\", axis=1, inplace=True)"
   ]
  },
  {
   "cell_type": "code",
   "execution_count": null,
   "id": "e2f052c5-c5c0-4849-a3a8-c778f05cdee4",
   "metadata": {
    "tags": []
   },
   "outputs": [],
   "source": [
    "# Extraire l'année et le numéro de semaine de la colonne de dates\n",
    "df['Année'] = df['Date'].dt.year\n",
    "df['Date'] = df['Date'].dt.strftime('%U')  # %U pour numéro de semaine (dimanche comme premier jour)"
   ]
  },
  {
   "cell_type": "code",
   "execution_count": null,
   "id": "81db0ae7-a29d-492e-944f-cdfe2121179d",
   "metadata": {
    "tags": []
   },
   "outputs": [],
   "source": [
    "TCD_EDF_Semaine = df.pivot_table(index=[\"Année\", \"Semaine\"], values=\"Total EDF\", aggfunc=lambda x: round(x.mean(), 1))"
   ]
  },
  {
   "cell_type": "code",
   "execution_count": null,
   "id": "fe77f276-cb79-4614-906d-62f9f6007092",
   "metadata": {
    "tags": []
   },
   "outputs": [],
   "source": [
    "def plot_graph(data):\n",
    "\n",
    "    # Créer le graphique\n",
    "    plt.figure(figsize=(8, 5), facecolor='lightgrey')\n",
    "\n",
    "    # Créer une liste de chaînes représentant les semaines au format \"année-semaine\"\n",
    "    x_values = [f\"{semaine}\" for annee, semaine in data.index]\n",
    "\n",
    "    # Tracer la courbe avec les paramètres spécifiques\n",
    "    plt.plot(x_values, data['Total EDF'], linestyle='-', color='r', label='Score EDF moyen', linewidth=2)\n",
    "\n",
    "\n",
    "\n",
    "    # Ajouter un titre, des labels d'axes\n",
    "    plt.title(\"Evolution de l'EDF moyen par semaine sur la saison 2023-2024\", color='black', fontweight='bold', fontsize=12)\n",
    "    plt.xlabel(\"Semaines\", color='black', fontweight='bold')\n",
    "    plt.ylabel(\"Score EDF moyen\", fontweight='bold')\n",
    "\n",
    "    # Définir les limites de l'axe des ordonnées (y-axis)\n",
    "    plt.ylim(10, 30)\n",
    "\n",
    "    # Ajuster les marges pour que le premier point soit aligné avec l'axe des ordonnées\n",
    "    plt.margins(x=0)  # Ajustement horizontal (axe des abscisses)\n",
    "\n",
    "\n",
    "\n",
    "\n",
    "    # Couleur de fond (zone de traçage)\n",
    "    ax = plt.gca()\n",
    "    ax.set_facecolor('beige')\n",
    "\n",
    "    # Couleur sous la courbe\n",
    "    plt.fill_between(x_values, data['Total EDF'], 0, where=(data['Total EDF'] > 0), alpha=0.3, color='blue')\n",
    "\n",
    "\n",
    "\n",
    "    # Afficher la légende\n",
    "    plt.legend(loc='upper right', fontsize='small', title='Légende', facecolor='lightgrey', frameon=True, edgecolor='black', fancybox=True)\n",
    "\n",
    "    # Afficher le graphique\n",
    "    plt.show()"
   ]
  },
  {
   "cell_type": "code",
   "execution_count": null,
   "id": "1c90653a-bc7b-45cb-ad1e-09b2776c8be1",
   "metadata": {
    "tags": []
   },
   "outputs": [],
   "source": [
    "def update_plot(joueur):\n",
    "    # Filtrer les données en fonction du joueur sélectionné\n",
    "    if joueur == \"Moyenne Groupe\":\n",
    "        filtered_data = df  # Utiliser toutes les données pour la moyenne du groupe\n",
    "    else:\n",
    "        filtered_data = df[df['Nom'] == joueur]  # Filtrer les données pour le joueur sélectionné\n",
    "\n",
    "    # Agréger les données filtrées par semaine et année\n",
    "    TCD_filtered = filtered_data.pivot_table(index=[\"Année\", \"Semaine\"], values=\"Total EDF\", aggfunc=lambda x: round(x.mean(), 1))\n",
    "\n",
    "    # Afficher le graphique mis à jour\n",
    "    plot_graph(TCD_filtered)"
   ]
  },
  {
   "cell_type": "markdown",
   "id": "c6611ae5-4db2-47a0-80c8-708205c610be",
   "metadata": {
    "tags": []
   },
   "source": [
    "# Evolution groupe/indiv RPE et EDF"
   ]
  },
  {
   "cell_type": "code",
   "execution_count": null,
   "id": "4516d847-b577-4d6f-9619-b1356fc9d356",
   "metadata": {
    "tags": []
   },
   "outputs": [],
   "source": [
    "# Liste des joueurs disponibles triée par ordre alphabétique\n",
    "joueurs_disponibles = sorted(df['Nom'].unique().tolist())\n",
    "\n",
    "# Insérer \"Moyenne Groupe\" en haut de la liste\n",
    "joueurs_disponibles.insert(0, \"Moyenne Groupe\")\n",
    "\n",
    "# Sélecteur de joueur\n",
    "joueur_selector = widgets.Dropdown(options=joueurs_disponibles, description='Joueur :')\n",
    "\n",
    "# Connecter le widget à la fonction de mise à jour du graphique\n",
    "widgets.interact(update_plot, joueur=joueur_selector)"
   ]
  },
  {
   "cell_type": "code",
   "execution_count": null,
   "id": "af335f1d-e123-4b19-897d-de1ff83707a2",
   "metadata": {},
   "outputs": [],
   "source": [
    "# !voila Dashboard.ipynb"
   ]
  },
  {
   "cell_type": "code",
   "execution_count": null,
   "id": "afcc78cd-2a26-4a35-93d3-b0f10c656008",
   "metadata": {},
   "outputs": [],
   "source": []
  }
 ],
 "metadata": {
  "kernelspec": {
   "display_name": "Python 3 (ipykernel)",
   "language": "python",
   "name": "python3"
  },
  "language_info": {
   "codemirror_mode": {
    "name": "ipython",
    "version": 3
   },
   "file_extension": ".py",
   "mimetype": "text/x-python",
   "name": "python",
   "nbconvert_exporter": "python",
   "pygments_lexer": "ipython3",
   "version": "3.11.5"
  }
 },
 "nbformat": 4,
 "nbformat_minor": 5
}
